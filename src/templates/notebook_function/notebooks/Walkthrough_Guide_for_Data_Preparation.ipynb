{
 "cells": [
  {
   "cell_type": "markdown",
   "metadata": {},
   "source": [
    "# Analyzing Customer Reviews with Gemini 1.0 Pro"
   ]
  },
  {
   "cell_type": "markdown",
   "metadata": {},
   "source": [
    "## Data Preparation\n",
    "\n",
    "Start by using BigQuery's integration with Google Cloud's ML and AI APIs to prepare your data for submission to the Gemini model."
   ]
  },
  {
   "cell_type": "markdown",
   "metadata": {},
   "source": [
    "### Translate\n",
    "\n",
    "Use the following query to translate your queries from their raw text into a unified language (in this case, English) using the [Cloud Translation API](https://cloud.google.com/translate). This doesn't require us to know the source language, but simply define the target language and continue. Check out the documentation [learn more](https://cloud.google.com/bigquery/docs/reference/standard-sql/bigqueryml-syntax-translate) about using the `ML.TRANSLATE` function in BigQuery, including additional use cases."
   ]
  },
  {
   "cell_type": "code",
   "execution_count": null,
   "metadata": {
    "vscode": {
     "languageId": "plaintext"
    }
   },
   "outputs": [],
   "source": [
    "%%bigquery results\n",
    "CREATE OR REPLACE TABLE `data-quality-demo-next-24.cymbal_sports.reviews_joined_translated`\n",
    "AS\n",
    "SELECT\n",
    "  reviews.* EXCEPT (review_text, text_content,ml_translate_result, ml_translate_status),\n",
    "  review_text AS review_text_raw,\n",
    "  REGEXP_REPLACE(TRIM(JSON_VALUE(ml_translate_result, '$.translations[0].translated_text')), r'([a-zA-Z0-9\\s]*)&#39;([a-zA-Z0-9\\s]*)', \"\\\\1'\\\\2\") AS review_text,\n",
    "  language_name_en AS review_language,\n",
    "FROM\n",
    "  ML.TRANSLATE(MODEL `data-quality-demo-next-24.cymbal_sports.translate`,\n",
    "    (\n",
    "    SELECT\n",
    "      *,\n",
    "      review_text AS text_content\n",
    "    FROM\n",
    "     `data-quality-demo-next-24.cymbal_sports.raw_reviews_joined`),\n",
    "    STRUCT('translate_text' AS translate_mode, 'en' AS target_language_code)\n",
    "  ) reviews\n",
    "LEFT JOIN\n",
    "  `data-quality-demo-next-24.cymbal_sports.iso_639_codes` iso ON TRIM(JSON_VALUE(reviews.ml_translate_result, '$.translations[0].detected_language_code')) = iso.iso_639_1"
   ]
  },
  {
   "cell_type": "code",
   "execution_count": null,
   "metadata": {
    "vscode": {
     "languageId": "plaintext"
    }
   },
   "outputs": [],
   "source": [
    "results"
   ]
  },
  {
   "cell_type": "markdown",
   "metadata": {},
   "source": [
    "### Sentiment analysis\n",
    "\n",
    "Run the following query to analyze the sentiment of each review using the [Cloud Natural Language API](https://cloud.google.com/natural-language). This allows us to determine the sentiment of each review, as well as the magnitude of this sentiment. We can break this down further too in order to understand which sentences express the sentiment most strongly, and more. Check out the documentation [learn more](https://cloud.google.com/bigquery/docs/reference/standard-sql/bigqueryml-syntax-understand-text) about using the `ML.UNDERSTAND_TEXT` function in BigQuery, including additional use cases."
   ]
  },
  {
   "cell_type": "code",
   "execution_count": null,
   "metadata": {
    "vscode": {
     "languageId": "plaintext"
    }
   },
   "outputs": [],
   "source": [
    "%%bigquery results\n",
    "CREATE OR REPLACE TABLE `data-quality-demo-next-24.cymbal_sports.cleaned_reviews`\n",
    "AS\n",
    "SELECT\n",
    "  * EXCEPT (text_content, ml_understand_text_result, ml_understand_text_status),\n",
    "  CASE\n",
    "    WHEN CAST(JSON_VALUE(ml_understand_text_result, '$.document_sentiment.score') AS FLOAT64) > 0 THEN \"positive\"\n",
    "    WHEN CAST(JSON_VALUE(ml_understand_text_result, '$.document_sentiment.score') AS FLOAT64) < 0 THEN \"negative\"\n",
    "    WHEN CAST(JSON_VALUE(ml_understand_text_result, '$.document_sentiment.score') AS FLOAT64) = 0 THEN \"neutral\"\n",
    "    ELSE \"unknown\"\n",
    "  END AS sentiment,\n",
    "  CAST(JSON_VALUE(ml_understand_text_result, '$.document_sentiment.magnitude') AS FLOAT64) AS sentiment_magnitude,\n",
    "  CAST(JSON_VALUE(ml_understand_text_result, '$.document_sentiment.score') AS FLOAT64) AS sentiment_score,\n",
    "FROM\n",
    "  ML.UNDERSTAND_TEXT(MODEL `data-quality-demo-next-24.cymbal_sports.nlp`,\n",
    "    (\n",
    "    SELECT\n",
    "      *,\n",
    "      review_text AS text_content\n",
    "    FROM\n",
    "      `data-quality-demo-next-24.cymbal_sports.reviews_joined_translated`),\n",
    "    STRUCT('ANALYZE_SENTIMENT' AS nlu_option)\n",
    "  )"
   ]
  },
  {
   "cell_type": "code",
   "execution_count": null,
   "metadata": {
    "vscode": {
     "languageId": "plaintext"
    }
   },
   "outputs": [],
   "source": [
    "results"
   ]
  },
  {
   "cell_type": "markdown",
   "metadata": {},
   "source": [
    "### Text Parsing\n",
    "\n",
    "Parse the text from your customer service policy (a PDF exported to PNGs) into BigQuery using the [Vision AI API](https://cloud.google.com/vision). This performs OCR (Optical Character Recognition) and returns the text into a single cell that we can pass to Gemini later. This can also be done using [Document AI](https://cloud.google.com/document-ai), which is particularly useful for bringing data from highly-structured documents (like tax forms and driver's licenses) into BigQuery. Check out the documentation [learn more](https://cloud.google.com/bigquery/docs/reference/standard-sql/bigqueryml-syntax-annotate-image) about using the `ML.ANNOTATE_IMAGE` function in BigQuery, including additional use cases."
   ]
  },
  {
   "cell_type": "code",
   "execution_count": null,
   "metadata": {
    "vscode": {
     "languageId": "plaintext"
    }
   },
   "outputs": [],
   "source": [
    "%%bigquery results\n",
    "CREATE OR REPLACE TABLE `data-quality-demo-next-24.cymbal_sports.complete_service_policy`\n",
    "AS\n",
    "with hold AS(\n",
    "  SELECT\n",
    "    REGEXP_REPLACE(REGEXP_REPLACE(JSON_VALUE(ml_annotate_image_result.full_text_annotation.text), r'\\n', ' '), r'•|●', '') AS text_content,\n",
    "    CAST(REGEXP_EXTRACT(uri, r'^.*Page_([0-9]{2})\\.png$') AS INT64) AS page_number,\n",
    "    *\n",
    "  FROM\n",
    "    ML.ANNOTATE_IMAGE(MODEL `data-quality-demo-next-24.cymbal_sports.vision_ai`,\n",
    "      TABLE `data-quality-demo-next-24.cymbal_sports.service_policy`,\n",
    "      STRUCT(['DOCUMENT_TEXT_DETECTION'] AS vision_features)) reviews)\n",
    "\n",
    "SELECT ARRAY_TO_STRING(ARRAY(SELECT TRIM(text_content, \"Internal Only For use by Cymbal Sports employees only\") FROM hold WHERE page_number > 2 ORDER BY page_number),\" \") AS service_policy_text, 1.0 AS version_number"
   ]
  },
  {
   "cell_type": "markdown",
   "metadata": {},
   "source": [
    "## Resolving customer issues\n",
    "\n",
    "Use the following query to call the Python [remote function](https://cloud.google.com/bigquery/docs/remote-functions) to pass the appropriate information to the Gemini model and get back a recommendation for action to resolve the issue, plus recommended communications to the user in both the review language and English. "
   ]
  },
  {
   "cell_type": "code",
   "execution_count": null,
   "metadata": {
    "vscode": {
     "languageId": "plaintext"
    }
   },
   "outputs": [],
   "source": [
    "%%bigquery results\n",
    "\n",
    "WITH\n",
    "  hold AS (\n",
    "  SELECT\n",
    "    PARSE_JSON(`data-quality-demo-next-24.cymbal_sports_lineage.gemini_analysis` (review_id)) AS response\n",
    "  FROM\n",
    "    `data-quality-demo-next-24.cymbal_sports.cleaned_reviews`\n",
    "  WHERE\n",
    "    sentiment = \"negative\"\n",
    "    AND uri IS NOT NULL\n",
    "    AND review_id = \"142\")\n",
    "\n",
    "SELECT\n",
    "  STRING(response.issue_resolution) AS issue_resolution,\n",
    "  STRING(response.response_user_language) AS email_user_language,\n",
    "  STRING(response.response_translated) AS email_translated\n",
    "FROM\n",
    "  hold"
   ]
  },
  {
   "cell_type": "code",
   "execution_count": null,
   "metadata": {
    "vscode": {
     "languageId": "plaintext"
    }
   },
   "outputs": [],
   "source": [
    "results"
   ]
  },
  {
   "cell_type": "markdown",
   "metadata": {},
   "source": [
    "## Review usage lineage\n",
    "\n",
    "This demo also highlights how BigQuery and Google Cloud's Generative AI tooling can help practitioners capture and review their team's AI usage over time. [Cloud Pub/Sub](https://cloud.google.com/pubsub) is used to capture metadata from Gemini invocations, including the prompt & model response, version of the model and customer service policy used, and embeddings of key inputs that support multimodal similarity search in BigQuery that allow us to identify patterns over time."
   ]
  },
  {
   "cell_type": "markdown",
   "metadata": {},
   "source": [
    "### Review prompt data\n",
    "\n",
    "Let's start by looking at the information for prompts that were sent to Gemini through Cloud Functions. Cloud Pub/Sub captures this data and writes it directly to BigQuery. You can query this data to get a sense for model performance, or to examine long-term trends in issues by comparing embeddings for images and text included in reviews."
   ]
  },
  {
   "cell_type": "code",
   "execution_count": null,
   "metadata": {
    "vscode": {
     "languageId": "plaintext"
    }
   },
   "outputs": [],
   "source": [
    "%%bigquery results\n",
    "\n",
    "SELECT * FROM `data-quality-demo-next-24.cymbal_sports_lineage.reviews_prompts`"
   ]
  },
  {
   "cell_type": "code",
   "execution_count": null,
   "metadata": {
    "vscode": {
     "languageId": "plaintext"
    }
   },
   "outputs": [],
   "source": [
    "results"
   ]
  },
  {
   "cell_type": "markdown",
   "metadata": {},
   "source": [
    "### Clean and review response data\n",
    "\n",
    "You can review your response data to get a sense for the model's performance. This includes the text generated by the model, as well as associated [safety attributes](https://cloud.google.com/vertex-ai/generative-ai/docs/multimodal/configure-safety-attributes). These attributes can be configured to block responses that exceed the defined parameters, and you can also evaluate the safety attributes for each response using [BigQuery's JSON support](https://cloud.google.com/bigquery/docs/json-data). Here, we have written the safety attributes output to a column with a JSON data type, and are using [BigQuery's dot-notation](https://cloud.google.com/bigquery/docs/reference/standard-sql/json_functions#JSONPath_format) to parse out results for each individual category. "
   ]
  },
  {
   "cell_type": "code",
   "execution_count": null,
   "metadata": {
    "vscode": {
     "languageId": "plaintext"
    }
   },
   "outputs": [],
   "source": [
    "%%bigquery results\n",
    "\n",
    "SELECT\n",
    "  * EXCEPT (safety_attributes),\n",
    "  STRUCT(safety_attributes[0].blocked AS blocked,\n",
    "    safety_attributes[0].probability_score AS probability_score,\n",
    "    safety_attributes[0].severity_score AS severity_score) AS hate_speech,\n",
    "  STRUCT(safety_attributes[1].blocked AS blocked,\n",
    "    safety_attributes[1].probability_score AS probability_score,\n",
    "    safety_attributes[1].severity_score AS severity_score) AS dangerous_content,\n",
    "  STRUCT(safety_attributes[2].blocked AS blocked,\n",
    "    safety_attributes[2].probability_score AS probability_score,\n",
    "    safety_attributes[2].severity_score AS severity_score) AS harassment,\n",
    "  STRUCT(safety_attributes[3].blocked AS blocked,\n",
    "    safety_attributes[3].probability_score AS probability_score,\n",
    "    safety_attributes[3].severity_score AS severity_score) AS sexually_explicit,\n",
    "  safety_attributes\n",
    "FROM\n",
    "  `data-quality-demo-next-24.cymbal_sports_lineage.reviews_responses`\n"
   ]
  },
  {
   "cell_type": "code",
   "execution_count": null,
   "metadata": {
    "vscode": {
     "languageId": "plaintext"
    }
   },
   "outputs": [],
   "source": [
    "results"
   ]
  }
 ],
 "metadata": {
  "language_info": {
   "name": "python"
  }
 },
 "nbformat": 4,
 "nbformat_minor": 2
}
